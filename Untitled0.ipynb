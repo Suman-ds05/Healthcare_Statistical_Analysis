{
  "nbformat": 4,
  "nbformat_minor": 0,
  "metadata": {
    "colab": {
      "provenance": []
    },
    "kernelspec": {
      "name": "python3",
      "display_name": "Python 3"
    },
    "language_info": {
      "name": "python"
    }
  },
  "cells": [
    {
      "cell_type": "code",
      "source": [
        "import numpy as np\n",
        "from scipy import stats\n",
        "\n",
        "# Data\n",
        "admissions = [32, 28, 35, 30, 29, 27, 31, 34, 33, 30]\n",
        "\n",
        "# Calculations\n",
        "mean = np.mean(admissions)\n",
        "median = np.median(admissions)\n",
        "mode = stats.mode(admissions)\n",
        "\n",
        "# Results\n",
        "print(\"Mean admissions:\", mean)\n",
        "print(\"Median admissions:\", median)\n",
        "print(\"Mode admissions:\", mode.mode[0], \"(appears\", mode.count[0], \"times)\")\n",
        "\n",
        "# Impact of 10% capacity increase\n",
        "increased_admissions = [x * 1.1 for x in admissions]\n",
        "new_mean = np.mean(increased_admissions)\n",
        "new_median = np.median(increased_admissions)\n",
        "new_mode = stats.mode(increased_admissions)\n",
        "\n",
        "print(\"\\nAfter 10% capacity increase:\")\n",
        "print(\"New mean:\", new_mean)\n",
        "print(\"New median:\", new_median)\n",
        "print(\"New mode:\", new_mode.mode[0], \"(appears\", new_mode.count[0], \"times)\")"
      ],
      "metadata": {
        "colab": {
          "base_uri": "https://localhost:8080/",
          "height": 245
        },
        "id": "U4zvIskY60WJ",
        "outputId": "0e87722a-eb11-4440-f901-db223c1ab07d"
      },
      "execution_count": 4,
      "outputs": [
        {
          "output_type": "stream",
          "name": "stdout",
          "text": [
            "Mean admissions: 30.9\n",
            "Median admissions: 30.5\n"
          ]
        },
        {
          "output_type": "error",
          "ename": "IndexError",
          "evalue": "invalid index to scalar variable.",
          "traceback": [
            "\u001b[0;31m---------------------------------------------------------------------------\u001b[0m",
            "\u001b[0;31mIndexError\u001b[0m                                Traceback (most recent call last)",
            "\u001b[0;32m<ipython-input-4-f7dec3898b3d>\u001b[0m in \u001b[0;36m<cell line: 0>\u001b[0;34m()\u001b[0m\n\u001b[1;32m     13\u001b[0m \u001b[0mprint\u001b[0m\u001b[0;34m(\u001b[0m\u001b[0;34m\"Mean admissions:\"\u001b[0m\u001b[0;34m,\u001b[0m \u001b[0mmean\u001b[0m\u001b[0;34m)\u001b[0m\u001b[0;34m\u001b[0m\u001b[0;34m\u001b[0m\u001b[0m\n\u001b[1;32m     14\u001b[0m \u001b[0mprint\u001b[0m\u001b[0;34m(\u001b[0m\u001b[0;34m\"Median admissions:\"\u001b[0m\u001b[0;34m,\u001b[0m \u001b[0mmedian\u001b[0m\u001b[0;34m)\u001b[0m\u001b[0;34m\u001b[0m\u001b[0;34m\u001b[0m\u001b[0m\n\u001b[0;32m---> 15\u001b[0;31m \u001b[0mprint\u001b[0m\u001b[0;34m(\u001b[0m\u001b[0;34m\"Mode admissions:\"\u001b[0m\u001b[0;34m,\u001b[0m \u001b[0mmode\u001b[0m\u001b[0;34m.\u001b[0m\u001b[0mmode\u001b[0m\u001b[0;34m[\u001b[0m\u001b[0;36m0\u001b[0m\u001b[0;34m]\u001b[0m\u001b[0;34m,\u001b[0m \u001b[0;34m\"(appears\"\u001b[0m\u001b[0;34m,\u001b[0m \u001b[0mmode\u001b[0m\u001b[0;34m.\u001b[0m\u001b[0mcount\u001b[0m\u001b[0;34m[\u001b[0m\u001b[0;36m0\u001b[0m\u001b[0;34m]\u001b[0m\u001b[0;34m,\u001b[0m \u001b[0;34m\"times)\"\u001b[0m\u001b[0;34m)\u001b[0m\u001b[0;34m\u001b[0m\u001b[0;34m\u001b[0m\u001b[0m\n\u001b[0m\u001b[1;32m     16\u001b[0m \u001b[0;34m\u001b[0m\u001b[0m\n\u001b[1;32m     17\u001b[0m \u001b[0;31m# Impact of 10% capacity increase\u001b[0m\u001b[0;34m\u001b[0m\u001b[0;34m\u001b[0m\u001b[0m\n",
            "\u001b[0;31mIndexError\u001b[0m: invalid index to scalar variable."
          ]
        }
      ]
    },
    {
      "cell_type": "code",
      "source": [
        "# Data\n",
        "recovery_days = [5, 7, 6, 8, 9, 5, 6, 7, 8, 6]\n",
        "\n",
        "# Calculations\n",
        "range_val = max(recovery_days) - min(recovery_days)\n",
        "variance = np.var(recovery_days)\n",
        "std_dev = np.std(recovery_days)\n",
        "\n",
        "# Results\n",
        "print(\"Range:\", range_val)\n",
        "print(\"Variance:\", variance)\n",
        "print(\"Standard Deviation:\", std_dev)\n",
        "\n",
        "# Impact of adding 4 and 10 days\n",
        "new_data = recovery_days + [4, 10]\n",
        "new_std_dev = np.std(new_data)\n",
        "\n",
        "print(\"\\nAfter adding 4 and 10 days:\")\n",
        "print(\"New Standard Deviation:\", new_std_dev)"
      ],
      "metadata": {
        "colab": {
          "base_uri": "https://localhost:8080/"
        },
        "id": "r7TkGfvZ64Lk",
        "outputId": "f82cc754-06b0-4f64-8972-ba982c9b057b"
      },
      "execution_count": 5,
      "outputs": [
        {
          "output_type": "stream",
          "name": "stdout",
          "text": [
            "Range: 4\n",
            "Variance: 1.61\n",
            "Standard Deviation: 1.2688577540449522\n",
            "\n",
            "After adding 4 and 10 days:\n",
            "New Standard Deviation: 1.689427911059441\n"
          ]
        }
      ]
    },
    {
      "cell_type": "code",
      "source": [
        "from scipy.stats import skew, kurtosis\n",
        "\n",
        "# Data\n",
        "satisfaction = [8, 9, 7, 8, 10, 7, 9, 6, 10, 8, 7, 9]\n",
        "\n",
        "# Calculations\n",
        "skewness = skew(satisfaction)\n",
        "kurt = kurtosis(satisfaction)\n",
        "\n",
        "# Interpretation\n",
        "print(\"Skewness:\", skewness)\n",
        "print(\"Kurtosis:\", kurt)\n",
        "print(\"\\nInterpretation:\")\n",
        "if abs(skewness) < 0.5:\n",
        "    print(\"Data is approximately symmetric (normal-like).\")\n",
        "else:\n",
        "    print(\"Data is skewed (non-normal).\")\n",
        "if kurt > 0:\n",
        "    print(\"Heavy tails (leptokurtic).\")\n",
        "else:\n",
        "    print(\"Light tails (platykurtic).\")"
      ],
      "metadata": {
        "colab": {
          "base_uri": "https://localhost:8080/"
        },
        "id": "M6ZDUjio6-tK",
        "outputId": "8838caac-bee1-43fb-d049-0127b76220ee"
      },
      "execution_count": 6,
      "outputs": [
        {
          "output_type": "stream",
          "name": "stdout",
          "text": [
            "Skewness: -0.04146734005998014\n",
            "Kurtosis: -1.0145959416162336\n",
            "\n",
            "Interpretation:\n",
            "Data is approximately symmetric (normal-like).\n",
            "Light tails (platykurtic).\n"
          ]
        }
      ]
    },
    {
      "cell_type": "code",
      "source": [
        "import pandas as pd\n",
        "\n",
        "# Data\n",
        "data = {\n",
        "    'Number of Nurses': [10, 12, 15, 18, 20, 22],\n",
        "    'Average Recovery Time (days)': [8, 7, 6, 5, 4, 3]\n",
        "}\n",
        "df = pd.DataFrame(data)\n",
        "\n",
        "# Correlation\n",
        "correlation = df['Number of Nurses'].corr(df['Average Recovery Time (days)'])\n",
        "\n",
        "# Results\n",
        "print(\"Correlation Coefficient:\", correlation)\n",
        "\n",
        "# Predict impact of adding 5 nurses\n",
        "new_nurses = df['Number of Nurses'] + 5\n",
        "slope = correlation * (df['Average Recovery Time (days)'].std() / df['Number of Nurses'].std())\n",
        "intercept = df['Average Recovery Time (days)'].mean() - slope * df['Number of Nurses'].mean()\n",
        "predicted_recovery = intercept + slope * new_nurses\n",
        "\n",
        "print(\"\\nPredicted Recovery Times after adding 5 nurses:\")\n",
        "print(pd.DataFrame({\n",
        "    'New Nurses': new_nurses,\n",
        "    'Predicted Recovery Time': predicted_recovery\n",
        "}))"
      ],
      "metadata": {
        "colab": {
          "base_uri": "https://localhost:8080/"
        },
        "id": "eeegwDPC7LA-",
        "outputId": "9ded69e4-92a8-48bd-a036-eacd37462edd"
      },
      "execution_count": 7,
      "outputs": [
        {
          "output_type": "stream",
          "name": "stdout",
          "text": [
            "Correlation Coefficient: -0.9967569377294726\n",
            "\n",
            "Predicted Recovery Times after adding 5 nurses:\n",
            "   New Nurses  Predicted Recovery Time\n",
            "0          15                 5.966309\n",
            "1          17                 5.166922\n",
            "2          20                 3.967841\n",
            "3          23                 2.768760\n",
            "4          25                 1.969372\n",
            "5          27                 1.169985\n"
          ]
        }
      ]
    },
    {
      "cell_type": "code",
      "source": [
        "from scipy.stats import ttest_1samp\n",
        "\n",
        "# Data\n",
        "wait_times = [32, 29, 31, 34, 33, 27, 30, 28, 35, 26]\n",
        "\n",
        "# One-sample t-test\n",
        "t_stat, p_value = ttest_1samp(wait_times, popmean=30)\n",
        "\n",
        "# Results\n",
        "print(\"t-statistic:\", t_stat)\n",
        "print(\"p-value:\", p_value)\n",
        "print(\"\\nConclusion:\")\n",
        "if p_value < 0.05:\n",
        "    print(\"Reject null hypothesis: Average wait time ≠ 30 minutes.\")\n",
        "else:\n",
        "    print(\"Fail to reject null hypothesis: No evidence against 30-minute claim.\")"
      ],
      "metadata": {
        "colab": {
          "base_uri": "https://localhost:8080/"
        },
        "id": "cP1AkJle7PGT",
        "outputId": "366c5dd6-0d0b-4f68-acd8-31af95cead43"
      },
      "execution_count": 8,
      "outputs": [
        {
          "output_type": "stream",
          "name": "stdout",
          "text": [
            "t-statistic: 0.5222329678670935\n",
            "p-value: 0.614117254808394\n",
            "\n",
            "Conclusion:\n",
            "Fail to reject null hypothesis: No evidence against 30-minute claim.\n"
          ]
        }
      ]
    },
    {
      "cell_type": "code",
      "source": [
        "from scipy.stats import chi2_contingency\n",
        "\n",
        "# Data\n",
        "observed = [[90, 10], [60, 40], [30, 70]]  # High/Medium/Low vs. Satisfied/Unsatisfied\n",
        "\n",
        "# Chi-square test\n",
        "chi2, p, dof, expected = chi2_contingency(observed)\n",
        "\n",
        "# Results\n",
        "print(\"Chi-square statistic:\", chi2)\n",
        "print(\"p-value:\", p)\n",
        "print(\"\\nConclusion:\")\n",
        "if p < 0.05:\n",
        "    print(\"Cleanliness and satisfaction are DEPENDENT (p < 0.05).\")\n",
        "else:\n",
        "    print(\"No significant association (p > 0.05).\")"
      ],
      "metadata": {
        "colab": {
          "base_uri": "https://localhost:8080/"
        },
        "id": "UED1nQwO7TZu",
        "outputId": "648cf561-f05c-4aa8-eb53-19df404bbcaa"
      },
      "execution_count": 9,
      "outputs": [
        {
          "output_type": "stream",
          "name": "stdout",
          "text": [
            "Chi-square statistic: 75.0\n",
            "p-value: 5.175555005801876e-17\n",
            "\n",
            "Conclusion:\n",
            "Cleanliness and satisfaction are DEPENDENT (p < 0.05).\n"
          ]
        }
      ]
    },
    {
      "cell_type": "code",
      "source": [
        "from scipy.stats import f_oneway\n",
        "\n",
        "# Data\n",
        "treatment_A = [5, 6, 7, 5, 6]\n",
        "treatment_B = [8, 9, 7, 8, 10]\n",
        "treatment_C = [4, 5, 6, 5, 4]\n",
        "\n",
        "# One-way ANOVA\n",
        "f_stat, p_value = f_oneway(treatment_A, treatment_B, treatment_C)\n",
        "\n",
        "# Results\n",
        "print(\"F-statistic:\", f_stat)\n",
        "print(\"p-value:\", p_value)\n",
        "print(\"\\nConclusion:\")\n",
        "if p_value < 0.05:\n",
        "    print(\"Significant difference between treatments.\")\n",
        "else:\n",
        "    print(\"No significant difference.\")"
      ],
      "metadata": {
        "colab": {
          "base_uri": "https://localhost:8080/"
        },
        "id": "aQSgoiQS7YJP",
        "outputId": "2d6e2817-40ee-46f6-8c10-e43d4075c170"
      },
      "execution_count": 10,
      "outputs": [
        {
          "output_type": "stream",
          "name": "stdout",
          "text": [
            "F-statistic: 19.18518518518518\n",
            "p-value: 0.0001828254331459655\n",
            "\n",
            "Conclusion:\n",
            "Significant difference between treatments.\n"
          ]
        }
      ]
    },
    {
      "cell_type": "code",
      "source": [
        "from scipy.stats import shapiro\n",
        "import matplotlib.pyplot as plt\n",
        "\n",
        "# Data\n",
        "admin_times = [12, 15, 14, 16, 18, 13, 14, 17, 15, 19, 16, 14]\n",
        "\n",
        "# Shapiro-Wilk test for normality\n",
        "stat, p = shapiro(admin_times)\n",
        "\n",
        "# Plot histogram\n",
        "plt.hist(admin_times, bins=5, edgecolor='black')\n",
        "plt.title(\"Distribution of Administration Times\")\n",
        "plt.xlabel(\"Time (minutes)\")\n",
        "plt.ylabel(\"Frequency\")\n",
        "plt.show()\n",
        "\n",
        "# Results\n",
        "print(\"Shapiro-Wilk p-value:\", p)\n",
        "print(\"\\nConclusion:\")\n",
        "if p > 0.05:\n",
        "    print(\"Data is normally distributed (fail to reject H0).\")\n",
        "else:\n",
        "    print(\"Data is NOT normally distributed (reject H0).\")"
      ],
      "metadata": {
        "colab": {
          "base_uri": "https://localhost:8080/",
          "height": 541
        },
        "id": "eMpaqIFS7zVP",
        "outputId": "34e7907a-b6ff-4cf6-8a21-584c3fb70d92"
      },
      "execution_count": 11,
      "outputs": [
        {
          "output_type": "display_data",
          "data": {
            "text/plain": [
              "<Figure size 640x480 with 1 Axes>"
            ],
            "image/png": "[encoded data removed]"
          },
          "metadata": {}
        },
        {
          "output_type": "stream",
          "name": "stdout",
          "text": [
            "Shapiro-Wilk p-value: 0.9201214036707512\n",
            "\n",
            "Conclusion:\n",
            "Data is normally distributed (fail to reject H0).\n"
          ]
        }
      ]
    },
    {
      "cell_type": "code",
      "source": [
        "from scipy.stats import poisson\n",
        "\n",
        "# Parameters\n",
        "lambda_ = 5  # Average arrivals per hour\n",
        "k = 3        # Exact arrivals to check\n",
        "\n",
        "# Probability calculation\n",
        "prob = poisson.pmf(k, lambda_)\n",
        "\n",
        "# Results\n",
        "print(f\"Probability of exactly {k} arrivals: {prob:.4f}\")\n",
        "\n",
        "# Impact of major accident (λ increases to 10)\n",
        "new_lambda = 10\n",
        "new_prob = poisson.pmf(k, new_lambda)\n",
        "print(f\"\\nIf λ increases to 10, P(X=3): {new_prob:.4f}\")"
      ],
      "metadata": {
        "colab": {
          "base_uri": "https://localhost:8080/"
        },
        "id": "Q-t42DYG74gA",
        "outputId": "d7f34067-1139-4138-ad3c-abc26bc2cccd"
      },
      "execution_count": 12,
      "outputs": [
        {
          "output_type": "stream",
          "name": "stdout",
          "text": [
            "Probability of exactly 3 arrivals: 0.1404\n",
            "\n",
            "If λ increases to 10, P(X=3): 0.0076\n"
          ]
        }
      ]
    },
    {
      "cell_type": "code",
      "source": [
        "import pandas as pd\n",
        "\n",
        "# Data\n",
        "surgeries = [0, 1, 2, 3, 4, 5]\n",
        "frequencies = [5, 12, 18, 22, 15, 8]\n",
        "total_days = sum(frequencies)\n",
        "\n",
        "# Probability distribution\n",
        "df = pd.DataFrame({\n",
        "    'Surgeries': surgeries,\n",
        "    'Probability': [f/total_days for f in frequencies]\n",
        "})\n",
        "\n",
        "# Expected value\n",
        "expected = sum(df['Surgeries'] * df['Probability'])\n",
        "\n",
        "# Results\n",
        "print(\"Probability Distribution:\")\n",
        "print(df)\n",
        "print(\"\\nExpected surgeries per day:\", expected)\n",
        "\n",
        "# Impact of new surgical team (assuming doubled capacity)\n",
        "new_expected = expected * 2\n",
        "print(\"\\nWith new team, expected surgeries per day:\", new_expected)"
      ],
      "metadata": {
        "colab": {
          "base_uri": "https://localhost:8080/"
        },
        "id": "4n9oHq-c776t",
        "outputId": "d9e9a854-1c84-483a-a643-62a337fc7298"
      },
      "execution_count": 13,
      "outputs": [
        {
          "output_type": "stream",
          "name": "stdout",
          "text": [
            "Probability Distribution:\n",
            "   Surgeries  Probability\n",
            "0          0       0.0625\n",
            "1          1       0.1500\n",
            "2          2       0.2250\n",
            "3          3       0.2750\n",
            "4          4       0.1875\n",
            "5          5       0.1000\n",
            "\n",
            "Expected surgeries per day: 2.675\n",
            "\n",
            "With new team, expected surgeries per day: 5.35\n"
          ]
        }
      ]
    }
  ]
}